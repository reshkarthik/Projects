{
 "cells": [
  {
   "cell_type": "markdown",
   "metadata": {},
   "source": [
    "# COGS 108 - Final Project Proposal"
   ]
  },
  {
   "cell_type": "markdown",
   "metadata": {},
   "source": [
    "# Names\n",
    "\n",
    "- Susanna Anil\n",
    "- Sahithi Chimmula\n",
    "- Reshma Karthikeyan\n",
    "- Shagun Khare\n",
    "- Pooja Pathak"
   ]
  },
  {
   "cell_type": "markdown",
   "metadata": {},
   "source": [
    "# Group Members IDs\n",
    "\n",
    "- A14635948\n",
    "- A15771255\n",
    "- A16056444\n",
    "- A15423523\n",
    "- A15430318"
   ]
  },
  {
   "cell_type": "markdown",
   "metadata": {},
   "source": [
    "# Research Question"
   ]
  },
  {
   "cell_type": "markdown",
   "metadata": {},
   "source": [
    "Is racial discrimination by law enforcement more prevalent in certain neighborhoods in San Diego, and how does it affect the outcome of a police stop?"
   ]
  },
  {
   "cell_type": "markdown",
   "metadata": {},
   "source": [
    "## Background and Prior Work"
   ]
  },
  {
   "cell_type": "markdown",
   "metadata": {},
   "source": [
    "*There have been multiple studies conducted studying the effect of race and attitudes towards police and police attitudes towards detainees. A cumulative paper detailed the conclusion of such studies by stating that although the gender and race of the detainee factor into police stress, work environment and home related issues play a bigger role on their behavior (He, Zhao, Ren). Many studies also stated that there is a distinct racial gap between the public’s attitude towards police with African Americans having a relatively less positive attitude in comparison to White Americans (Eschholz, Blackwell, Gertz, Chiricos). Blackwell’s study, like many others, only studied a sample space consisting of White Americans and African Americans. One such study stated “The probability of being black, unarmed and shot by police is about 3.5 times the probability of being white, unarmed and shot by police” (Ross, 2015).  Studies like the aforementioned fall short as they didn’t study the relations between police and other racial groups. The incentive for these studies to do so could stem from the media's influence on the public’s view of the police. The media has tended to portray adverse relations between African Americans and police as a result of unequal police brutality. 
We are exploring whether a person’s race affects the outcome of charges from the police, depending on the neighborhood of San Diego they are in. In a study by Stanford University social psychologist Jennifer Eberhardt found that although black people account for a minority of Oakland’s population (28%), they accounted for 60% of police stops. Police actions are influenced by stereotypes, and “a large proportion of white Americans have these [implicit] biases, and it’s hard to expect police officers to be any different” (Dovidio, 2016). Additionally, a study conducted by George Mason University and reported by the U.S. Department of Justice came to the conclusion “that in Seattle, three place-based cues seem to most consistently matter to decision making pathways: the proportion of residents that are Black, the level of wealth in that area, and the amount of violence in a block group”. This implies that both the location and the ratio of racial groups within a location influence decisions on how to best police the area.
* \n",
    "\n",
    "References (include links):\n",
    "- 1) https://www.neighborhoodscout.com/ca/san-diego/crime\n",
    "- 2) https://www.sciencedirect.com/science/article/pii/S0047235202001332\n"
    "- 3) https://www.sciencedirect.com/science/article/pii/S0047235205000590\n"
    "- 4) https://openpolicing.stanford.edu/findings/\n"
    "- 5) https://www.apa.org/monitor/2016/12/cover-policing\n"
    "- 6) http://journals.plos.org/plosone/article?id=10.1371/journal.pone.0141854"
    "- 7) https://www.ncjrs.gov/pdffiles1/nij/grants/231931.pdf\n"
   
   ]
  },
  {
   "cell_type": "markdown",
   "metadata": {},
   "source": [
    "# Hypothesis\n"
   ]
  },
  {
   "cell_type": "markdown",
   "metadata": {},
   "source": [
    "*State and defend your hypotheses here.*"
   ]
  },
  {
   "cell_type": "markdown",
   "metadata": {},
   "source": [
    "# Data"
   ]
  },
  {
   "cell_type": "markdown",
   "metadata": {},
   "source": [
    "*Explain what the ideal dataset you would want to answer this question. (This should include: What variables? How many observations? Who/what/how would these data be collected? How would these data be stored/organized?)*"
   ]
  },
  {
   "cell_type": "markdown",
   "metadata": {},
   "source": [
    "# Ethics & Privacy"
   ]
  },
  {
   "cell_type": "markdown",
   "metadata": {},
   "source": [
    "*Fill in your ethics & privacy discussion here*"
   ]
  },
  {
   "cell_type": "markdown",
   "metadata": {},
   "source": [
    "# Team Expectations "
   ]
  },
  {
   "cell_type": "markdown",
   "metadata": {},
   "source": [
    "* *Team Expectation 1*\n",
    "* *Team Expectation 2*\n",
    "* *Team Expecation 3*\n",
    "* ..."
   ]
  },
  {
   "cell_type": "markdown",
   "metadata": {},
   "source": [
    "# Project Timeline Proposal"
   ]
  },
  {
   "cell_type": "markdown",
   "metadata": {},
   "source": [
    "| Meeting Date  | Meeting Time| Completed Before Meeting  | Discuss at Meeting |\n",
    "|---|---|---|---|\n",
    "| 1/20  |  1 PM | Read & Think about COGS 108 expectations; brainstorm topics/questions  | Determine best form of communication; Discuss and decide on final project topic; discuss hypothesis; begin background research | \n",
    "| 1/26  |  10 AM |  Do background research on topic | Discuss ideal dataset(s) and ethics; draft project proposal | \n",
    "| 2/1  | 10 AM  | Edit, finalize, and submit proposal; Search for datasets  | Discuss Wrangling and possible analytical approaches; Assign group members to lead each specific part   |\n",
    "| 2/14  | 6 PM  | Import & Wrangle Data (Ant Man); EDA (Hulk) | Review/Edit wrangling/EDA; Discuss Analysis Plan   |\n",
    "| 2/23  | 12 PM  | Finalize wrangling/EDA; Begin Analysis (Iron Man; Thor) | Discuss/edit Analysis; Complete project check-in |\n",
    "| 3/13  | 12 PM  | Complete analysis; Draft results/conclusion/discussion (Wasp)| Discuss/edit full project |\n",
    "| 3/19  | Before 11:59 PM  | NA | Turn in Final Project & Group Project Surveys |"
   ]
  }
 ],
 "metadata": {
  "kernelspec": {
   "display_name": "Python 3",
   "language": "python",
   "name": "python3"
  },
  "language_info": {
   "codemirror_mode": {
    "name": "ipython",
    "version": 3
   },
   "file_extension": ".py",
   "mimetype": "text/x-python",
   "name": "python",
   "nbconvert_exporter": "python",
   "pygments_lexer": "ipython3",
   "version": "3.6.8"
  }
 },
 "nbformat": 4,
 "nbformat_minor": 2
}
